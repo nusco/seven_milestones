{
  "nbformat": 4,
  "nbformat_minor": 0,
  "metadata": {
    "colab": {
      "name": "Colab in 20 Minutes",
      "private_outputs": true,
      "provenance": [],
      "collapsed_sections": [],
      "authorship_tag": "ABX9TyM/XrB2bmwXaT6+i0hEGt/j",
      "include_colab_link": true
    },
    "kernelspec": {
      "name": "python3",
      "display_name": "Python 3"
    },
    "language_info": {
      "name": "python"
    },
    "accelerator": "GPU"
  },
  "cells": [
    {
      "cell_type": "markdown",
      "metadata": {
        "id": "view-in-github",
        "colab_type": "text"
      },
      "source": [
        "<a href=\"https://colab.research.google.com/github/nusco/seven_milestones/blob/main/Milestone1.ipynb\" target=\"_parent\"><img src=\"https://colab.research.google.com/assets/colab-badge.svg\" alt=\"Open In Colab\"/></a>"
      ]
    },
    {
      "cell_type": "markdown",
      "metadata": {
        "id": "ZzONlXV7gaQE"
      },
      "source": [
        "# Colab in 20 Minutes\n",
        "\n",
        "Welcome! This is a quick introduction to Google Colab. You'll see what it feels like, and what its basic features are. The whole tutorial will probably take you 20 to 30 minutes.\n",
        "\n",
        "I assume that you came here from the article [Google Colab: The First Steps](https://medium.com/p/ee1bdfee3415). After this tutorial, I'll ask you to head back to that article, and keep reading.\n",
        "\n",
        "All you need to run this tutorial is a Google account. Do you have that handy? If so, let's get started!"
      ]
    },
    {
      "cell_type": "markdown",
      "metadata": {
        "id": "cY9veEWOVmPU"
      },
      "source": [
        "> ## _If You Have Comments:_\n",
        "> \n",
        "> See anything that needs fixing? Then please, leave a comment. Once you log in to Google, you'll see a “Comment” button in the upper right area of this notebook, next to the “Share” button. (Speaking of which: 🙏 thank you, [Erica Johnson](https://twitter.com/Winning_Siempre) and [Chris Lorig](https://twitter.com/c_weis), for your feedback!)"
      ]
    },
    {
      "cell_type": "markdown",
      "metadata": {
        "id": "Jy6dYDdIeXub"
      },
      "source": [
        "## Notebooks and Cells\n",
        "\n",
        "![Welcome!](https://upload.wikimedia.org/wikipedia/commons/archive/e/ef/20170519213254%21Emoji_u263a.svg)\n",
        "\n",
        "You're looking at a Colab notebook. This text is inside a *cell*. Text cells use the [Markdown](https://www.markdownguide.org/basic-syntax/) format, so they can contain images, links, $\\sqrt{formulae}$, and so on.\n",
        "\n",
        "Go ahead: double-click on this cell to see its source text. Feel free to edit it. Don't worry, Google won't let you save your changes to this notebook–but you can copy it to your own Google Drive, if you wish, and change the copy.)\n",
        "\n",
        "Are you editing this cell already? Good! Then you can see the formatted text to the right. In the upper right corner of the cell, you can also see a small toolbar. It allows you to move the cell up and down in the notebook, get a link to the cell, delete it, and so on. Once you're done, click on another cell to close the editor.\n",
        "\n",
        "Now let's look at a second, more interesting, kind of cells."
      ]
    },
    {
      "cell_type": "markdown",
      "metadata": {
        "id": "L5yzwR_shsLD"
      },
      "source": [
        "## Running Code in the Cloud\n",
        "\n",
        "Here is the main feature of Colab: besides text, cells can also contain Python code. Try running the cell below. You can click on it and press `Shift+Return`, or click the little arrow that appears when you hover your pointer over the cell. Google will ask you to login if you're not logged in already, and also to confirm that you really want to run this code."
      ]
    },
    {
      "cell_type": "code",
      "metadata": {
        "id": "7kNedSbchAi9"
      },
      "source": [
        "# Calculate a name's initials:\n",
        "name = \"Edgar Allan Poe\"\n",
        "initials =[w[0].capitalize() for w in name.split()]\n",
        "signature = ''.join(initials)\n",
        "\n",
        "# Confirm that the code has been running:\n",
        "print(\"Done!\")"
      ],
      "execution_count": null,
      "outputs": []
    },
    {
      "cell_type": "markdown",
      "metadata": {
        "id": "73lgD9WGiWGn"
      },
      "source": [
        "\n",
        "Did it take a few seconds for the code to run? That's because it didn't run in your browser, or even on your computer. The first time you run code in a notebook, it connects to a \"runtime\" hosted by Google. You just ran code in the cloud.\n",
        "\n",
        "Even if this notebook comes from my Google Drive, the runtime is all yours. It won't stay yours for long, however. If you walk away from this notebook, Google will eventually take back the runtime and reboot it. Don't be surprised if, from time to time, you see a dialog asking you to click a button. That's Google checking whether you're still around.\n",
        "\n",
        "The code you executed calculates a variable called `signature`. Let's print its value. We could use the `print()` function like we did above, but there's another way to print a variable: place it right at the end of a cell, or maybe in a cell all by itself:"
      ]
    },
    {
      "cell_type": "code",
      "metadata": {
        "id": "4ebAUJ9v4Hel"
      },
      "source": [
        "signature"
      ],
      "execution_count": null,
      "outputs": []
    },
    {
      "cell_type": "markdown",
      "metadata": {
        "id": "wRYPqfFl4I8l"
      },
      "source": [
        "When you execute the cell above, you should see the initials `'EAP'` below it.\n",
        "\n",
        "So far we've seen text cells and executable code cells. But wait–there is more."
      ]
    },
    {
      "cell_type": "markdown",
      "metadata": {
        "id": "2vtXQpSvkCqd"
      },
      "source": [
        "## Showing Data in a Notebook\n",
        "\n",
        "Many Colab users are data scientists, so you won't be surprised to hear that Colab is pretty good at displaying data. Let's prepare an example. Run the cell below to load a dataset:"
      ]
    },
    {
      "cell_type": "code",
      "metadata": {
        "id": "HWcdz39jkR5H"
      },
      "source": [
        "# Import the Seaborn library:\n",
        "import seaborn as sns\n",
        "\n",
        "# Use Seaborn to download the \"flights\" data set:\n",
        "flights = sns.load_dataset('flights')\n",
        "\n",
        "# Cluster the passengers by year:\n",
        "passengers_by_year = flights.groupby(['year'])['passengers'].sum().reset_index()"
      ],
      "execution_count": null,
      "outputs": []
    },
    {
      "cell_type": "markdown",
      "metadata": {
        "id": "1KODsbxk4bSR"
      },
      "source": [
        "One nice feature of Colab is that it comes pre-loaded with a bunch of useful Python libraries. In particular, the code above uses two of those libraries.\n",
        "\n",
        "The first library, [Seaborn](https://seaborn.pydata.org/), is mostly about plotting charts–but it also comes with a few small datasets for testing. The code above downloads one of thos datasets, that contains the number of airline passengers between 1949 and 1960.\n",
        "\n",
        "Even if you don't see it straight away, this code also uses the [Pandas](https://pandas.pydata.org/) library. Pandas is a data analysis library, but in this case we're only using one of its features: the `DataFrame` type, that is essentially a table of data. That's what `passengers_by_year` is:"
      ]
    },
    {
      "cell_type": "code",
      "metadata": {
        "id": "A52Fj_dCoYwJ"
      },
      "source": [
        "type(passengers_by_year)"
      ],
      "execution_count": null,
      "outputs": []
    },
    {
      "cell_type": "markdown",
      "metadata": {
        "id": "CNxSF5qCoYcl"
      },
      "source": [
        "We could dump `passengers_by_year` on the screen as-is, or ask Colab to make it look nicer. Let's go for the second option. Colab comes with its own utility library, called `google.colab`. We can use it to format Pandas `DataFrame`s as interactive tables:"
      ]
    },
    {
      "cell_type": "code",
      "metadata": {
        "id": "aWVVm-Bb4Dso"
      },
      "source": [
        "# Ask Colab to visualize Pandas DataFrames as interactive tables:\n",
        "from google.colab import data_table\n",
        "data_table.enable_dataframe_formatter()\n",
        "\n",
        "# Show the data:\n",
        "passengers_by_year"
      ],
      "execution_count": null,
      "outputs": []
    },
    {
      "cell_type": "markdown",
      "metadata": {
        "id": "KZ9-lS_ckpXH"
      },
      "source": [
        "See? You can sort, paginate, and filter the data, right inside this notebook.\n",
        " \n",
        "Finally, let's plot these data with the [Plotly](https://plotly.com/) library, that also comes installed with Colab. When you run the next cell, it will display a chart. You can click around on chart, and use its upper right toolbar to change its scale:"
      ]
    },
    {
      "cell_type": "code",
      "metadata": {
        "id": "ke4UVPgjOGKI"
      },
      "source": [
        "import plotly.express as px\n",
        "fig = px.bar(passengers_by_year, x='year', y='passengers')\n",
        "fig.show()"
      ],
      "execution_count": null,
      "outputs": []
    },
    {
      "cell_type": "markdown",
      "metadata": {
        "id": "d14TbGHCmRtd"
      },
      "source": [
        "> ## Documents That Run\n",
        "> \n",
        "> Let's stop for a moment to consider what you've done so far. In a nutshell, you've already seen what Colab is about: a way to build documents that can also run.\n",
        "> \n",
        "> Data scientists love that idea. After all, a lot of their job is about putting together data, code and detailed explanations. Machine learning experiments are perfect for Colab. You show the data, explain what you're doing, show the code, run it, display the result, comment on the whole thing, maybe sprinkle a few charts on it.\n",
        "> \n",
        "> However, Colab is not just for data science: it's useful wherever you want to make experiments or demos, and show them to others. With Colab, you can have your code explained, and run it too.\n",
        "> \n",
        "> Let's explore this concept ourselves, with a quick demo."
      ]
    },
    {
      "cell_type": "markdown",
      "metadata": {
        "id": "cCeNbc9kW1oI"
      },
      "source": [
        "## Let's Do Computer Vision\n",
        "\n",
        "In this quick test, we'll use a Python library to detect the faces in a photograph. It's going to be almost like a session of live coding, except that I'm not going to run any code. Instead, you will.\n",
        "\n",
        "If you ever get in a pickle, you can restart this part of the tutorial from scratch. See the menu at the top of this notebook? From there, pick `Edit -> Clear all outputs` to clear the outputs of code cells. Then get a clean runtime with `Runtime -> Factory reset runtime`, and start again from this cell.\n",
        "\n",
        "Let's get to work!"
      ]
    },
    {
      "cell_type": "markdown",
      "metadata": {
        "id": "aqyFAWhs1sPb"
      },
      "source": [
        "### Downloading an Image\n",
        "\n",
        "\n",
        "Let's start by downloading a suitable photograph. I found these nice fellows online:\n",
        "\n",
        "![Some interesting people.](https://live.staticflickr.com/8392/8622731362_984012906e_c_d.jpg)\n",
        "\n",
        "Let's download this picture:"
      ]
    },
    {
      "cell_type": "code",
      "metadata": {
        "id": "TBbvtye_YQE6"
      },
      "source": [
        "!wget https://live.staticflickr.com/8392/8622731362_984012906e_c_d.jpg --output-document people.jpg"
      ],
      "execution_count": null,
      "outputs": []
    },
    {
      "cell_type": "markdown",
      "metadata": {
        "id": "gfr3D86knQLm"
      },
      "source": [
        "As you know, the code in this notebook is running on a machine provided by Google, called the “runtime”. The command above uses the Linux `wget` command to download the image and save it to the runtime's file system, with the name `people.jpg`. See that exclamation mark before the command? That's a way to tell Colab that you want to execute the command in a shell on the runtime.\n",
        "\n",
        "So now the file should be in the current directory of the runtime. Let's check the content of that directory with the `ls` command:"
      ]
    },
    {
      "cell_type": "code",
      "metadata": {
        "id": "EZFNWgF9iFVA"
      },
      "source": [
        "!ls"
      ],
      "execution_count": null,
      "outputs": []
    },
    {
      "cell_type": "markdown",
      "metadata": {
        "id": "zGUeSsHg9WHB"
      },
      "source": [
        "When you run the cell above, you should see the `people.jpg` file. Now let's detect those faces."
      ]
    },
    {
      "cell_type": "markdown",
      "metadata": {
        "id": "yi_8UiO_n-7e"
      },
      "source": [
        "### Making Mistakes\n",
        "\n",
        "In this section and the next, I'm going to make life a bit annoying for you, and ask you to run code that doesn't always work. Please bear with me, and I'll justify my actions in a few minutes.\n",
        "\n",
        "OK, so: let's import the `face_recognition` library and use it to load the image. I looked at that library's documentation, and here is how you do that:"
      ]
    },
    {
      "cell_type": "code",
      "metadata": {
        "id": "W0I5SaC9la3q"
      },
      "source": [
        "import face_recognition\n",
        "\n",
        "image = face_recognition.load_image_file(\"people.jpg\")\n",
        "print(\"Done!\")"
      ],
      "execution_count": null,
      "outputs": []
    },
    {
      "cell_type": "markdown",
      "metadata": {
        "id": "dsnBOSFCCCQg"
      },
      "source": [
        "When you run the cell above, however, you'll get an error: ***No module named 'face_recognition'***. Earlier on, I told you that Colab comes with a bunch of Python libraries pre-installed. As it turns out, `face_recognition` is not one of them. We need to install this library ourselves.\n",
        "\n",
        "Fortunately, installing libraries on the runtime is not a big deal. You do it with the same tool you'd use on your local computer: `pip`, the Python package manager. Run this cell to install version 1.3 of `face_recognition`:"
      ]
    },
    {
      "cell_type": "code",
      "metadata": {
        "id": "nF4ClaFS8Swv"
      },
      "source": [
        "%pip install face_recognition==1.3"
      ],
      "execution_count": null,
      "outputs": []
    },
    {
      "cell_type": "markdown",
      "metadata": {
        "id": "3cXHxLE17bPt"
      },
      "source": [
        "While the library installs, here's a question for you: do you notice anything weird in the command above? So far, we've prefixed shell commands with a `!` sign. Instead, this command is prefixed by a `%` sign.\n",
        "\n",
        "That's because `%pip` isn't a shell command. Instead, it's something that Colab calls a “magic command”, or just a “magic” for short. Magics are built-in directives that go straight to Colab. So we didn't send a command to the runtime–we sent it to the notebook itself. As you probably guessed, the `%pip` magic orders Colab to install a library.\n",
        "\n",
        "(You might wonder: why use a magic command in this case, when we could just run the `!pip` command in a shell? Thing is, `!pip` causes subtle issues when you install libraries on a runtime, while `%pip` has no such issues. You can read the technical details [here](https://github.com/ipython/ipython/pull/11524) if you wish.)\n",
        "\n",
        "OK, where were we? Oh, yes: we installed `face_recognition`, and now we can run our code again. If the cell above has finished its job, then go run the previous code cell again–the one that imports and uses the `face_recognition` library. I'll be waiting in the next section."
      ]
    },
    {
      "cell_type": "markdown",
      "metadata": {
        "id": "BAvNug8V8xB0"
      },
      "source": [
        "### Making More Mistakes\n",
        "\n",
        "Welcome back! Did you run that cell again? Did you perchance get yet another error–something to do with “no CUDA-capable device”? Whether or not it happened to you, that mistake is related to one of the best features of Colab, so you might want to hear about it.\n",
        "\n",
        "CUDA is the programming interface for [NVIDIA](https://www.nvidia.com/it-it/)'s [GPU](https://en.wikipedia.org/wiki/Graphics_processing_unit)s. Like many machine learning libraries, `face_recognition` expects to find a CUDA interface on the current machine.\n",
        "\n",
        "Let's double check. We can use the `nvidia-smi` command to see which GPU is installed on the runtime:"
      ]
    },
    {
      "cell_type": "code",
      "metadata": {
        "id": "rElSSGsSCCEG"
      },
      "source": [
        "!nvidia-smi"
      ],
      "execution_count": null,
      "outputs": []
    },
    {
      "cell_type": "markdown",
      "metadata": {
        "id": "fLb2Pn7vCBZV"
      },
      "source": [
        "If the command above reports a failure, that's because your runtime doesn't come with a GPU card. That's expected: Colab tries to spare precious hardware resources, so it usually doesn't give you a GPU. Unless you ask for it, that is. Let's see how.\n",
        "\n",
        "Check the menu bar at the top of this notebook. Open `Runtime`, and select `Change runtime type`. You should see a dialog, and inside it, a combo labeled “Hardware accelerator”. Select “GPU” and save the configuration. That should add a GPU and CUDA to your runtime.\n",
        "\n",
        "Have you done it? Good! Then run the cell above again–the one with the `nvidia-smi` command. This time around, you should have a GPU. That GPU can be less or more powerful, depending on a few things. Google tends to allocate the more powerful GPUs to Colab subscribers, and the less powerful to people who're using Colab for free. However, as long as we have a GPU, we aren't going to be fussy about it.\n",
        "\n",
        "To recap: earlier on, we got an error because we didn't have the `face_recognition` library. We fixed that error, and got a second one about not having a GPU. We fixed that second error as well. It's time to run our code again… And I also have an apology to make.\n"
      ]
    },
    {
      "cell_type": "markdown",
      "metadata": {
        "id": "_jHEi4MyKNSG"
      },
      "source": [
        "## Wrapping Up the Code\n",
        "\n",
        "I've been a bit mischievious in the previous two sections. I knew that you'd get errors on this notebook, and I did nothing to prevent it. I apologize for that–I did it for a good cause. I wanted to show you how it feels to work with a Colab notebook in real life. We'll talk more about this topic later, when we return to the article that we started from.\n",
        "\n",
        "In the meantime, here are the cells that load the image again. This time they're in the right order, and ready to be executed one after the other.\n",
        "\n",
        "(Here is a useful shortcut for running multiple cells one after the other: press `Shift+Enter` to run a cell and immediately select the following cell.)"
      ]
    },
    {
      "cell_type": "code",
      "metadata": {
        "id": "BAqA3YOcKqLR"
      },
      "source": [
        "# This cell should confirm that your runtime has a GPU.\n",
        "# If you see a message telling you that the GPU isn't\n",
        "# there, then use the \"Runtime\" -> \"Change runtime type\"\n",
        "# menu item to get one.\n",
        "!nvidia-smi"
      ],
      "execution_count": null,
      "outputs": []
    },
    {
      "cell_type": "code",
      "metadata": {
        "id": "LMoiD5ofb6gO"
      },
      "source": [
        "# Download the image:\n",
        "!wget https://live.staticflickr.com/8392/8622731362_984012906e_c_d.jpg --output-document people.jpg"
      ],
      "execution_count": null,
      "outputs": []
    },
    {
      "cell_type": "code",
      "metadata": {
        "id": "egOxlKGecKe3"
      },
      "source": [
        "# List the content of the working directory. The \"people.jpg\" image\n",
        "# should be in there.\n",
        "!ls"
      ],
      "execution_count": null,
      "outputs": []
    },
    {
      "cell_type": "code",
      "metadata": {
        "id": "0Mxtt3F5K7ap"
      },
      "source": [
        "# Install the face_recognition library, unless it's already installed.\n",
        "%pip install face_recognition==1.3"
      ],
      "execution_count": null,
      "outputs": []
    },
    {
      "cell_type": "code",
      "metadata": {
        "id": "C1SfwCvTLEpG"
      },
      "source": [
        "# Import the library and use it to load the image.\n",
        "import face_recognition\n",
        "\n",
        "image = face_recognition.load_image_file(\"people.jpg\")"
      ],
      "execution_count": null,
      "outputs": []
    },
    {
      "cell_type": "code",
      "metadata": {
        "id": "DH3U1ZphLLEG"
      },
      "source": [
        "# Print out the shape of the image, to make sure that it loaded OK.\n",
        "# It should be 493 pixels wide, 800 pixels high, with 3 color channels.\n",
        "image.shape"
      ],
      "execution_count": null,
      "outputs": []
    },
    {
      "cell_type": "markdown",
      "metadata": {
        "id": "bJ8bdVPIn9Bv"
      },
      "source": [
        "And now it's finally time to do that face detection!"
      ]
    },
    {
      "cell_type": "markdown",
      "metadata": {
        "id": "a1ST1NJ5U-9g"
      },
      "source": [
        "### Detecting faces\n",
        "\n",
        "Here is how you detect faces with the `face_recognition` library:"
      ]
    },
    {
      "cell_type": "code",
      "metadata": {
        "id": "DVT7y_nNYP8b"
      },
      "source": [
        "%%time\n",
        "\n",
        "locations = face_recognition.face_locations(image)"
      ],
      "execution_count": null,
      "outputs": []
    },
    {
      "cell_type": "markdown",
      "metadata": {
        "id": "FhAcTlzmMw8u"
      },
      "source": [
        "The cell above uses the `%%time` magic command to measure its own execution time. This “magic” uses a double `%` sign instead of a single `%` sign. That's a Colab convention for magics that apply to multiple lines–in this case, to the entire cell. The cell can take more or less time depending on which runtime you got, but it typically takes a few seconds or less.\n",
        "\n",
        "The call to `face_locations()` returns a list of bounding boxes. Those are rectangular areas in the original image that contain a human face. Let's check out that `locations` variable:"
      ]
    },
    {
      "cell_type": "code",
      "metadata": {
        "id": "a-E_ThiBQyR3"
      },
      "source": [
        "locations"
      ],
      "execution_count": null,
      "outputs": []
    },
    {
      "cell_type": "markdown",
      "metadata": {
        "id": "t6EgrtzGNJ5F"
      },
      "source": [
        "One, two… that's six bounding boxes in total. The original photograph had seven people in it, so it seems that someone slipped under the radar. The following code draws the bounding boxes over the original image, so that we can see who's missing:"
      ]
    },
    {
      "cell_type": "code",
      "metadata": {
        "id": "8ktIPQ4uYOZP"
      },
      "source": [
        "# We'll use utility functions from these two libraries:\n",
        "import cv2\n",
        "from google.colab.patches import cv2_imshow\n",
        "\n",
        "# Draw the bounding boxes on a copy of the image:\n",
        "image_with_boxes = image.copy()\n",
        "for location in locations:\n",
        "    y2, x1, y1, x2 = location\n",
        "    image_with_boxes = cv2.rectangle(image_with_boxes, (x1, y1), (x2, y2), (255, 0, 0), 2)\n",
        "\n",
        "# Convert the image to RGB (because the cv2 library uses\n",
        "# a BGR order for the color channels):\n",
        "cv2.cvtColor(image_with_boxes, cv2.COLOR_BGR2RGB)\n",
        "\n",
        "# Show the image on the screen:\n",
        "cv2_imshow(image_with_boxes)"
      ],
      "execution_count": null,
      "outputs": []
    },
    {
      "cell_type": "markdown",
      "metadata": {
        "id": "wKNOEoXGOqvG"
      },
      "source": [
        "It's hard to tell why the `face_recognition` library didn't spot that guy in the lower right of the picture. Maybe the algorithm is better at identifying people if they're looking straight into the camera. In any case, six over seven is still a decent performance."
      ]
    },
    {
      "cell_type": "markdown",
      "metadata": {
        "id": "QlILZ_ToO5Mc"
      },
      "source": [
        "> ### If You Want to Experiment\n",
        ">\n",
        "> If you're willing to spend a few more minutes with this notebook, here is something you can try: run the face detector on your own image. You can download an image from the Internet with `wget`, like we did here. Alternately, check out the vertical toolbar on the left side of this notebook. See that little folder icon? Click on it, and you'll see the current runtime's file system, and an option to upload your files directly to it."
      ]
    },
    {
      "cell_type": "markdown",
      "metadata": {
        "id": "ZF32B0p4GMn9"
      },
      "source": [
        "## Back to Where We Started\n",
        "\n",
        "We only scratched the proverbial surface of Colab, but you should already have an idea of what it feels like. It's time to head back to the post that we started from and have a little talk about this experience. [See you there!](https://medium.com/p/ee1bdfee3415/#6c71)"
      ]
    }
  ]
}