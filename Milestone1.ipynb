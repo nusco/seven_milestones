{
 "cells": [
  {
   "cell_type": "markdown",
   "metadata": {
    "colab_type": "text",
    "id": "view-in-github"
   },
   "source": [
    "<a href=\"https://colab.research.google.com/github/nusco/seven_milestones/blob/main/Milestone1.ipynb\" target=\"_parent\"><img src=\"https://colab.research.google.com/assets/colab-badge.svg\" alt=\"Open In Colab\"/></a>"
   ]
  },
  {
   "cell_type": "markdown",
   "metadata": {
    "id": "ZzONlXV7gaQE"
   },
   "source": [
    "# How to Use a Computational Notebook\n",
    "\n",
    "Welcome! You're looking at a computational notebook–a system to write documents that mix text, images and runnable code.\n",
    "\n",
    "![Welcome!](https://upload.wikimedia.org/wikipedia/commons/archive/e/ef/20170519213254%21Emoji_u263a.svg)\n",
    "\n",
    "I wrote this notebook using [Jupyter Notebook](https://jupyter.org/install), the go-to standard for computational notebooks. To make your life easier, I also uploaded it to a service called Google Colab. Colab is based on Jupyter, but it allows you to run this notebook without downloading or installing anything on your local machine. The code in this notebook will run in a “runtime” provided by Google.\n",
    "\n",
    "One downside of Colab is that you need a Google account to run a notebook. If you're not logged into Google, then click on the _Sign in_ button in the upper right corner.\n",
    "\n",
    "(If you prefer, you can download this notebook and run it locally on your own Jupyter installation. Be aware that Jupyter's interface is different from Colab's–so you'll have to adapt my descriptions a bit. However, the basic idea of a notebook stays the same.)"
   ]
  },
  {
   "cell_type": "markdown",
   "metadata": {
    "id": "Jy6dYDdIeXub"
   },
   "source": [
    "## Notebooks and Cells\n",
    "\n",
    "Notebooks are made of a sequence of *cells*, like the one that contains this text. Text cells use the [Markdown](https://www.markdownguide.org/basic-syntax/) format, so they can contain images, links, $\\sqrt{formulae}$, and so on.\n",
    "\n",
    "Go ahead: double-click on this cell to see its source text. Feel free to edit it. Don't worry, Google won't let you save your changes to this notebook.\n",
    "\n",
    "In the upper right corner of the cell, you can also see a small toolbar. It allows you to move the cell up and down in the notebook, get a link to the cell, delete it, and so on. Once you're done, click on another cell to see the formatted text.\n",
    "\n",
    "(If you're using Jupyter instead of Colab, clicking on another cell won't format the text. You need to explicitly _run_ the cell with the “Run” button in the toolbar.)\n",
    "\n",
    "Now let's look at a second, more interesting, kind of cells."
   ]
  },
  {
   "cell_type": "markdown",
   "metadata": {
    "id": "L5yzwR_shsLD"
   },
   "source": [
    "## Running Code in the Cloud\n",
    "\n",
    "Here is the main feature of notebooks: besides text, cells can also contain Python code. Try running the cell below. You can click on it and press `Shift+Return`, or click the little arrow that appears when you hover your pointer over the cell.\n",
    "\n",
    "If you're running this notebook in Colab, you'll notice a few things. First, if you're not signed in to Google, you'll have to do it. Google will also to confirm that you really want to run this code."
   ]
  },
  {
   "cell_type": "code",
   "execution_count": 9,
   "metadata": {
    "id": "7kNedSbchAi9"
   },
   "outputs": [
    {
     "name": "stdout",
     "output_type": "stream",
     "text": [
      "All done!\n"
     ]
    }
   ],
   "source": [
    "# Calculate a name's initials:\n",
    "name = \"Edgar Allan Poe\"\n",
    "initials =[w[0].capitalize() for w in name.split()]\n",
    "signature = ''.join(initials)\n",
    "\n",
    "# Confirm that the code has been running:\n",
    "print(\"All done!\")"
   ]
  },
  {
   "cell_type": "markdown",
   "metadata": {
    "id": "73lgD9WGiWGn"
   },
   "source": [
    "The code you executed calculates a variable called `signature`. Let's print its value. We could use the `print()` function like we did above, but there's another way to print a variable: place it right at the end of a cell, or maybe in a cell all by itself:"
   ]
  },
  {
   "cell_type": "code",
   "execution_count": 10,
   "metadata": {
    "id": "4ebAUJ9v4Hel"
   },
   "outputs": [
    {
     "data": {
      "text/plain": [
       "'EAP'"
      ]
     },
     "execution_count": 10,
     "metadata": {},
     "output_type": "execute_result"
    }
   ],
   "source": [
    "signature"
   ]
  },
  {
   "cell_type": "markdown",
   "metadata": {
    "id": "wRYPqfFl4I8l"
   },
   "source": [
    "When you execute the cell above, you should see the initials `'EAP'` below it.\n",
    "\n",
    "So far we've seen text cells and executable code cells. But wait–there is more."
   ]
  },
  {
   "cell_type": "markdown",
   "metadata": {
    "id": "2vtXQpSvkCqd"
   },
   "source": [
    "## Showing Data in a Notebook\n",
    "\n",
    "Many users of computational notebooks are data scientists, so you won't be surprised to hear that notebooks are good at displaying data. Let's prepare an example.\n",
    "\n",
    "In this example, we're going to use a few Python libraries. You can use the `%pip` command to install them on the fly, without leaving the notebook:"
   ]
  },
  {
   "cell_type": "code",
   "execution_count": 12,
   "metadata": {},
   "outputs": [
    {
     "name": "stdout",
     "output_type": "stream",
     "text": [
      "Collecting numpy==1.23\n",
      "  Downloading numpy-1.23.0-cp310-cp310-macosx_11_0_arm64.whl (13.3 MB)\n",
      "\u001b[2K     \u001b[38;2;114;156;31m━━━━━━━━━━━━━━━━━━━━━━━━━━━━━━━━━━━━━━━━\u001b[0m \u001b[32m13.3/13.3 MB\u001b[0m \u001b[31m6.7 MB/s\u001b[0m eta \u001b[36m0:00:00\u001b[0mm eta \u001b[36m0:00:01\u001b[0m[36m0:00:01\u001b[0m\n",
      "\u001b[?25hInstalling collected packages: numpy\n",
      "  Attempting uninstall: numpy\n",
      "    Found existing installation: numpy 1.23.2\n",
      "    Uninstalling numpy-1.23.2:\n",
      "      Successfully uninstalled numpy-1.23.2\n",
      "Successfully installed numpy-1.23.0\n",
      "Note: you may need to restart the kernel to use updated packages.\n",
      "Collecting matplotlib==3.5\n",
      "  Downloading matplotlib-3.5.0-cp310-cp310-macosx_11_0_arm64.whl (7.2 MB)\n",
      "\u001b[2K     \u001b[38;2;114;156;31m━━━━━━━━━━━━━━━━━━━━━━━━━━━━━━━━━━━━━━━━\u001b[0m \u001b[32m7.2/7.2 MB\u001b[0m \u001b[31m5.9 MB/s\u001b[0m eta \u001b[36m0:00:00\u001b[0mm eta \u001b[36m0:00:01\u001b[0m0:01\u001b[0m:01\u001b[0m\n",
      "\u001b[?25hRequirement already satisfied: pillow>=6.2.0 in /opt/homebrew/Caskroom/miniforge/base/envs/seven_milestones/lib/python3.10/site-packages (from matplotlib==3.5) (9.2.0)\n",
      "Requirement already satisfied: python-dateutil>=2.7 in /opt/homebrew/Caskroom/miniforge/base/envs/seven_milestones/lib/python3.10/site-packages (from matplotlib==3.5) (2.8.2)\n",
      "Requirement already satisfied: kiwisolver>=1.0.1 in /opt/homebrew/Caskroom/miniforge/base/envs/seven_milestones/lib/python3.10/site-packages (from matplotlib==3.5) (1.4.4)\n",
      "Requirement already satisfied: pyparsing>=2.2.1 in /opt/homebrew/Caskroom/miniforge/base/envs/seven_milestones/lib/python3.10/site-packages (from matplotlib==3.5) (3.0.9)\n",
      "Requirement already satisfied: cycler>=0.10 in /opt/homebrew/Caskroom/miniforge/base/envs/seven_milestones/lib/python3.10/site-packages (from matplotlib==3.5) (0.11.0)\n",
      "Requirement already satisfied: numpy>=1.17 in /opt/homebrew/Caskroom/miniforge/base/envs/seven_milestones/lib/python3.10/site-packages (from matplotlib==3.5) (1.23.0)\n",
      "Requirement already satisfied: fonttools>=4.22.0 in /opt/homebrew/Caskroom/miniforge/base/envs/seven_milestones/lib/python3.10/site-packages (from matplotlib==3.5) (4.37.1)\n",
      "Collecting setuptools-scm>=4\n",
      "  Downloading setuptools_scm-7.0.5-py3-none-any.whl (42 kB)\n",
      "\u001b[2K     \u001b[38;2;114;156;31m━━━━━━━━━━━━━━━━━━━━━━━━━━━━━━━━━━━━━━━━\u001b[0m \u001b[32m42.9/42.9 kB\u001b[0m \u001b[31m1.3 MB/s\u001b[0m eta \u001b[36m0:00:00\u001b[0m\n",
      "\u001b[?25hRequirement already satisfied: packaging>=20.0 in /opt/homebrew/Caskroom/miniforge/base/envs/seven_milestones/lib/python3.10/site-packages (from matplotlib==3.5) (21.3)\n",
      "Requirement already satisfied: six>=1.5 in /opt/homebrew/Caskroom/miniforge/base/envs/seven_milestones/lib/python3.10/site-packages (from python-dateutil>=2.7->matplotlib==3.5) (1.16.0)\n",
      "Requirement already satisfied: setuptools in /opt/homebrew/Caskroom/miniforge/base/envs/seven_milestones/lib/python3.10/site-packages (from setuptools-scm>=4->matplotlib==3.5) (65.3.0)\n",
      "Collecting tomli>=1.0.0\n",
      "  Downloading tomli-2.0.1-py3-none-any.whl (12 kB)\n",
      "Collecting typing-extensions\n",
      "  Downloading typing_extensions-4.3.0-py3-none-any.whl (25 kB)\n",
      "Installing collected packages: typing-extensions, tomli, setuptools-scm, matplotlib\n",
      "  Attempting uninstall: matplotlib\n",
      "    Found existing installation: matplotlib 3.5.3\n",
      "    Uninstalling matplotlib-3.5.3:\n",
      "      Successfully uninstalled matplotlib-3.5.3\n",
      "Successfully installed matplotlib-3.5.0 setuptools-scm-7.0.5 tomli-2.0.1 typing-extensions-4.3.0\n",
      "Note: you may need to restart the kernel to use updated packages.\n",
      "Collecting seaborn==0.11\n",
      "  Downloading seaborn-0.11.0-py3-none-any.whl (283 kB)\n",
      "\u001b[2K     \u001b[38;2;114;156;31m━━━━━━━━━━━━━━━━━━━━━━━━━━━━━━━━━━━━━━━\u001b[0m \u001b[32m283.1/283.1 kB\u001b[0m \u001b[31m2.3 MB/s\u001b[0m eta \u001b[36m0:00:00\u001b[0m MB/s\u001b[0m eta \u001b[36m0:00:01\u001b[0m\n",
      "\u001b[?25hRequirement already satisfied: pandas>=0.23 in /opt/homebrew/Caskroom/miniforge/base/envs/seven_milestones/lib/python3.10/site-packages (from seaborn==0.11) (1.4.3)\n",
      "Requirement already satisfied: numpy>=1.15 in /opt/homebrew/Caskroom/miniforge/base/envs/seven_milestones/lib/python3.10/site-packages (from seaborn==0.11) (1.23.0)\n",
      "Requirement already satisfied: matplotlib>=2.2 in /opt/homebrew/Caskroom/miniforge/base/envs/seven_milestones/lib/python3.10/site-packages (from seaborn==0.11) (3.5.0)\n",
      "Requirement already satisfied: scipy>=1.0 in /opt/homebrew/Caskroom/miniforge/base/envs/seven_milestones/lib/python3.10/site-packages (from seaborn==0.11) (1.9.0)\n",
      "Requirement already satisfied: pillow>=6.2.0 in /opt/homebrew/Caskroom/miniforge/base/envs/seven_milestones/lib/python3.10/site-packages (from matplotlib>=2.2->seaborn==0.11) (9.2.0)\n",
      "Requirement already satisfied: kiwisolver>=1.0.1 in /opt/homebrew/Caskroom/miniforge/base/envs/seven_milestones/lib/python3.10/site-packages (from matplotlib>=2.2->seaborn==0.11) (1.4.4)\n",
      "Requirement already satisfied: packaging>=20.0 in /opt/homebrew/Caskroom/miniforge/base/envs/seven_milestones/lib/python3.10/site-packages (from matplotlib>=2.2->seaborn==0.11) (21.3)\n",
      "Requirement already satisfied: python-dateutil>=2.7 in /opt/homebrew/Caskroom/miniforge/base/envs/seven_milestones/lib/python3.10/site-packages (from matplotlib>=2.2->seaborn==0.11) (2.8.2)\n",
      "Requirement already satisfied: fonttools>=4.22.0 in /opt/homebrew/Caskroom/miniforge/base/envs/seven_milestones/lib/python3.10/site-packages (from matplotlib>=2.2->seaborn==0.11) (4.37.1)\n",
      "Requirement already satisfied: cycler>=0.10 in /opt/homebrew/Caskroom/miniforge/base/envs/seven_milestones/lib/python3.10/site-packages (from matplotlib>=2.2->seaborn==0.11) (0.11.0)\n",
      "Requirement already satisfied: pyparsing>=2.2.1 in /opt/homebrew/Caskroom/miniforge/base/envs/seven_milestones/lib/python3.10/site-packages (from matplotlib>=2.2->seaborn==0.11) (3.0.9)\n",
      "Requirement already satisfied: setuptools-scm>=4 in /opt/homebrew/Caskroom/miniforge/base/envs/seven_milestones/lib/python3.10/site-packages (from matplotlib>=2.2->seaborn==0.11) (7.0.5)\n",
      "Requirement already satisfied: pytz>=2020.1 in /opt/homebrew/Caskroom/miniforge/base/envs/seven_milestones/lib/python3.10/site-packages (from pandas>=0.23->seaborn==0.11) (2022.2.1)\n",
      "Requirement already satisfied: six>=1.5 in /opt/homebrew/Caskroom/miniforge/base/envs/seven_milestones/lib/python3.10/site-packages (from python-dateutil>=2.7->matplotlib>=2.2->seaborn==0.11) (1.16.0)\n",
      "Requirement already satisfied: typing-extensions in /opt/homebrew/Caskroom/miniforge/base/envs/seven_milestones/lib/python3.10/site-packages (from setuptools-scm>=4->matplotlib>=2.2->seaborn==0.11) (4.3.0)\n",
      "Requirement already satisfied: tomli>=1.0.0 in /opt/homebrew/Caskroom/miniforge/base/envs/seven_milestones/lib/python3.10/site-packages (from setuptools-scm>=4->matplotlib>=2.2->seaborn==0.11) (2.0.1)\n",
      "Requirement already satisfied: setuptools in /opt/homebrew/Caskroom/miniforge/base/envs/seven_milestones/lib/python3.10/site-packages (from setuptools-scm>=4->matplotlib>=2.2->seaborn==0.11) (65.3.0)\n",
      "Installing collected packages: seaborn\n",
      "  Attempting uninstall: seaborn\n",
      "    Found existing installation: seaborn 0.11.2\n",
      "    Uninstalling seaborn-0.11.2:\n",
      "      Successfully uninstalled seaborn-0.11.2\n",
      "Successfully installed seaborn-0.11.0\n",
      "Note: you may need to restart the kernel to use updated packages.\n"
     ]
    }
   ],
   "source": [
    "%pip install numpy==1.23\n",
    "%pip install matplotlib==3.5\n",
    "%pip install seaborn==0.11"
   ]
  },
  {
   "cell_type": "markdown",
   "metadata": {},
   "source": [
    "In a notebook, commands that are prefixed by `%` are called “magic commands”, or just “magics”. Magics are executed directly by the notebook, rather than run in a Python interpreter. Each notebook implementation comes with [its own magics](https://ipython.readthedocs.io/en/stable/interactive/magics.html), but the `%pip` magic is available bothin Jupyter and in Colab.\n",
    "\n",
    "One more thing about installing libraries: after running the cell above, you should see a lot of messages on the screen. Right at the end, you might see that the \n",
    "\n",
    "As I promised, none of the libraries above is a machine learning library. [Numpy](https://numpy.org/) is a numerical library to do math. [Matplotlib](https://matplotlib.org/) and [Seaborn](https://seaborn.pydata.org/) are used to draw charts.\n",
    "\n",
    "Now that the libraries are installed, run the cell below to load a dataset:"
   ]
  },
  {
   "cell_type": "code",
   "execution_count": 2,
   "metadata": {
    "id": "HWcdz39jkR5H"
   },
   "outputs": [
    {
     "ename": "ModuleNotFoundError",
     "evalue": "No module named 'seaborn'",
     "output_type": "error",
     "traceback": [
      "\u001b[0;31m---------------------------------------------------------------------------\u001b[0m",
      "\u001b[0;31mModuleNotFoundError\u001b[0m                       Traceback (most recent call last)",
      "Input \u001b[0;32mIn [2]\u001b[0m, in \u001b[0;36m<cell line: 2>\u001b[0;34m()\u001b[0m\n\u001b[1;32m      1\u001b[0m \u001b[38;5;66;03m# Import the Seaborn library:\u001b[39;00m\n\u001b[0;32m----> 2\u001b[0m \u001b[38;5;28;01mimport\u001b[39;00m \u001b[38;5;21;01mseaborn\u001b[39;00m \u001b[38;5;28;01mas\u001b[39;00m \u001b[38;5;21;01msns\u001b[39;00m\n\u001b[1;32m      4\u001b[0m \u001b[38;5;66;03m# Use Seaborn to download the \"flights\" data set:\u001b[39;00m\n\u001b[1;32m      5\u001b[0m flights \u001b[38;5;241m=\u001b[39m sns\u001b[38;5;241m.\u001b[39mload_dataset(\u001b[38;5;124m'\u001b[39m\u001b[38;5;124mflights\u001b[39m\u001b[38;5;124m'\u001b[39m)\n",
      "\u001b[0;31mModuleNotFoundError\u001b[0m: No module named 'seaborn'"
     ]
    }
   ],
   "source": [
    "# Import the Seaborn library:\n",
    "import seaborn as sns\n",
    "\n",
    "# Use Seaborn to download the \"flights\" data set:\n",
    "flights = sns.load_dataset('flights')\n",
    "\n",
    "# Cluster the passengers by year:\n",
    "passengers_by_year = flights.groupby(['year'])['passengers'].sum().reset_index()"
   ]
  },
  {
   "cell_type": "markdown",
   "metadata": {
    "id": "1KODsbxk4bSR"
   },
   "source": [
    "Google Colab comes pre-loaded with a bunch of useful Python libraries. In particular, the code above uses two of those libraries.\n",
    "\n",
    "The first library, [Seaborn](https://seaborn.pydata.org/), is mostly about plotting charts–but it also comes with a few small datasets for testing. The code above downloads one of thos datasets, that contains the number of airline passengers between 1949 and 1960.\n",
    "\n",
    "Even if you don't see it straight away, this code also uses the [Pandas](https://pandas.pydata.org/) library. Pandas is a data analysis library, but in this case we're only using one of its features: the `DataFrame` type, that is essentially a table of data. That's what `passengers_by_year` is:"
   ]
  },
  {
   "cell_type": "code",
   "execution_count": null,
   "metadata": {
    "id": "A52Fj_dCoYwJ"
   },
   "outputs": [],
   "source": [
    "type(passengers_by_year)"
   ]
  },
  {
   "cell_type": "markdown",
   "metadata": {
    "id": "CNxSF5qCoYcl"
   },
   "source": [
    "Let's print `passengers_by_year` on the screen:"
   ]
  },
  {
   "cell_type": "code",
   "execution_count": 3,
   "metadata": {
    "id": "aWVVm-Bb4Dso"
   },
   "outputs": [
    {
     "ename": "NameError",
     "evalue": "name 'passengers_by_year' is not defined",
     "output_type": "error",
     "traceback": [
      "\u001b[0;31m---------------------------------------------------------------------------\u001b[0m",
      "\u001b[0;31mNameError\u001b[0m                                 Traceback (most recent call last)",
      "Input \u001b[0;32mIn [3]\u001b[0m, in \u001b[0;36m<cell line: 1>\u001b[0;34m()\u001b[0m\n\u001b[0;32m----> 1\u001b[0m \u001b[43mpassengers_by_year\u001b[49m\n",
      "\u001b[0;31mNameError\u001b[0m: name 'passengers_by_year' is not defined"
     ]
    }
   ],
   "source": [
    "passengers_by_year"
   ]
  },
  {
   "cell_type": "markdown",
   "metadata": {
    "id": "KZ9-lS_ckpXH"
   },
   "source": [
    "Finally, let's plot these data with the [Plotly](https://plotly.com/) library. When you run the next cell, it will display a chart. You can click around on chart, and use its upper right toolbar to change its scale:"
   ]
  },
  {
   "cell_type": "code",
   "execution_count": 4,
   "metadata": {
    "id": "ke4UVPgjOGKI"
   },
   "outputs": [
    {
     "ename": "ModuleNotFoundError",
     "evalue": "No module named 'plotly'",
     "output_type": "error",
     "traceback": [
      "\u001b[0;31m---------------------------------------------------------------------------\u001b[0m",
      "\u001b[0;31mModuleNotFoundError\u001b[0m                       Traceback (most recent call last)",
      "Input \u001b[0;32mIn [4]\u001b[0m, in \u001b[0;36m<cell line: 1>\u001b[0;34m()\u001b[0m\n\u001b[0;32m----> 1\u001b[0m \u001b[38;5;28;01mimport\u001b[39;00m \u001b[38;5;21;01mplotly\u001b[39;00m\u001b[38;5;21;01m.\u001b[39;00m\u001b[38;5;21;01mexpress\u001b[39;00m \u001b[38;5;28;01mas\u001b[39;00m \u001b[38;5;21;01mpx\u001b[39;00m\n\u001b[1;32m      2\u001b[0m fig \u001b[38;5;241m=\u001b[39m px\u001b[38;5;241m.\u001b[39mbar(passengers_by_year, x\u001b[38;5;241m=\u001b[39m\u001b[38;5;124m'\u001b[39m\u001b[38;5;124myear\u001b[39m\u001b[38;5;124m'\u001b[39m, y\u001b[38;5;241m=\u001b[39m\u001b[38;5;124m'\u001b[39m\u001b[38;5;124mpassengers\u001b[39m\u001b[38;5;124m'\u001b[39m)\n\u001b[1;32m      3\u001b[0m fig\u001b[38;5;241m.\u001b[39mshow()\n",
      "\u001b[0;31mModuleNotFoundError\u001b[0m: No module named 'plotly'"
     ]
    }
   ],
   "source": [
    "import plotly.express as px\n",
    "fig = px.bar(passengers_by_year, x='year', y='passengers')\n",
    "fig.show()"
   ]
  },
  {
   "cell_type": "markdown",
   "metadata": {
    "id": "d14TbGHCmRtd"
   },
   "source": [
    "> ## Documents That Run\n",
    "> \n",
    "> Let's stop for a moment to consider what you've done so far. In a nutshell, you've already seen what a computational notebook is about: a way to build documents that can also run.\n",
    "> \n",
    "> Data scientists love that idea. After all, a lot of their job is about putting together data, code and detailed explanations. Machine learning experiments are perfect for notebooks. You show the data, explain what you're doing, show the code, run it, display the result, comment on the whole thing, maybe sprinkle a few charts on it.\n",
    "> \n",
    "> However, notebooks aren't just for data science: they are useful wherever you want to make experiments or demos, and show them to others. With a notebook, you can have your code explained, and run it too.\n",
    "> \n",
    "> Let's explore this concept ourselves, with a quick demo."
   ]
  },
  {
   "cell_type": "markdown",
   "metadata": {
    "id": "cCeNbc9kW1oI"
   },
   "source": [
    "## Let's Do Computer Vision\n",
    "\n",
    "In this quick test, we'll use a Python library to detect the faces in a photograph. It's going to be almost like a session of live coding, except that I'm not going to run any code. Instead, you will.\n",
    "\n",
    "If you ever get in a pickle, you can restart this part of the tutorial from scratch. See the menu at the top of this notebook? From there, pick `Edit -> Clear all outputs` to clear the outputs of code cells. Then get a clean runtime with `Runtime -> Factory reset runtime`, and start again from this cell.\n",
    "\n",
    "Let's get to work!"
   ]
  },
  {
   "cell_type": "markdown",
   "metadata": {
    "id": "aqyFAWhs1sPb"
   },
   "source": [
    "### Downloading an Image\n",
    "\n",
    "\n",
    "Let's start by downloading a suitable photograph. I found these fellows online:\n",
    "\n",
    "![Some interesting people.](https://live.staticflickr.com/8392/8622731362_984012906e_c_d.jpg)\n",
    "\n",
    "Let's download this picture:"
   ]
  },
  {
   "cell_type": "code",
   "execution_count": 5,
   "metadata": {
    "id": "TBbvtye_YQE6"
   },
   "outputs": [
    {
     "name": "stdout",
     "output_type": "stream",
     "text": [
      "--2022-08-25 12:43:53--  https://live.staticflickr.com/8392/8622731362_984012906e_c_d.jpg\n",
      "Resolving live.staticflickr.com (live.staticflickr.com)... 18.66.214.78\n",
      "Connecting to live.staticflickr.com (live.staticflickr.com)|18.66.214.78|:443... connected.\n",
      "HTTP request sent, awaiting response... 200 OK\n",
      "Length: unspecified [image/jpeg]\n",
      "Saving to: ‘people.jpg’\n",
      "\n",
      "people.jpg              [ <=>                ] 122.12K  --.-KB/s    in 0.07s   \n",
      "\n",
      "2022-08-25 12:43:54 (1.63 MB/s) - ‘people.jpg’ saved [125053]\n",
      "\n"
     ]
    }
   ],
   "source": [
    "!wget https://live.staticflickr.com/8392/8622731362_984012906e_c_d.jpg --output-document people.jpg"
   ]
  },
  {
   "cell_type": "markdown",
   "metadata": {
    "id": "gfr3D86knQLm"
   },
   "source": [
    "As you know, the code in this notebook is running on a machine provided by Google, called the “runtime”. The command above uses the Linux `wget` command to download the image and save it to the runtime's file system, with the name `people.jpg`. See that exclamation mark before the command? That's how you tell the notebook that you want to execute the command in a shell on the runtime.\n",
    "\n",
    "So now the file should be in the current directory of the runtime. Let's check the content of that directory with the `ls` command:"
   ]
  },
  {
   "cell_type": "code",
   "execution_count": 6,
   "metadata": {
    "id": "EZFNWgF9iFVA"
   },
   "outputs": [
    {
     "name": "stdout",
     "output_type": "stream",
     "text": [
      "Milestone1.ipynb README.md        people.jpg\r\n"
     ]
    }
   ],
   "source": [
    "!ls"
   ]
  },
  {
   "cell_type": "markdown",
   "metadata": {
    "id": "zGUeSsHg9WHB"
   },
   "source": [
    "When you run the cell above, you should see the `people.jpg` file. Now let's detect those faces."
   ]
  },
  {
   "cell_type": "markdown",
   "metadata": {
    "id": "yi_8UiO_n-7e"
   },
   "source": [
    "### Making Mistakes\n",
    "\n",
    "In this section and the next, I'm going to make life a bit annoying for you, and ask you to run code that doesn't always work. Please bear with me, and I'll justify my actions in a few minutes.\n",
    "\n",
    "OK, so: let's import the `face_recognition` library and use it to load the image. I looked at that library's documentation, and here is how you do that:"
   ]
  },
  {
   "cell_type": "code",
   "execution_count": 7,
   "metadata": {
    "id": "W0I5SaC9la3q"
   },
   "outputs": [
    {
     "ename": "ModuleNotFoundError",
     "evalue": "No module named 'face_recognition'",
     "output_type": "error",
     "traceback": [
      "\u001b[0;31m---------------------------------------------------------------------------\u001b[0m",
      "\u001b[0;31mModuleNotFoundError\u001b[0m                       Traceback (most recent call last)",
      "Input \u001b[0;32mIn [7]\u001b[0m, in \u001b[0;36m<cell line: 1>\u001b[0;34m()\u001b[0m\n\u001b[0;32m----> 1\u001b[0m \u001b[38;5;28;01mimport\u001b[39;00m \u001b[38;5;21;01mface_recognition\u001b[39;00m\n\u001b[1;32m      3\u001b[0m image \u001b[38;5;241m=\u001b[39m face_recognition\u001b[38;5;241m.\u001b[39mload_image_file(\u001b[38;5;124m\"\u001b[39m\u001b[38;5;124mpeople.jpg\u001b[39m\u001b[38;5;124m\"\u001b[39m)\n\u001b[1;32m      4\u001b[0m \u001b[38;5;28mprint\u001b[39m(\u001b[38;5;124m\"\u001b[39m\u001b[38;5;124mDone!\u001b[39m\u001b[38;5;124m\"\u001b[39m)\n",
      "\u001b[0;31mModuleNotFoundError\u001b[0m: No module named 'face_recognition'"
     ]
    }
   ],
   "source": [
    "import face_recognition\n",
    "\n",
    "image = face_recognition.load_image_file(\"people.jpg\")\n",
    "print(\"Done!\")"
   ]
  },
  {
   "cell_type": "markdown",
   "metadata": {
    "id": "dsnBOSFCCCQg"
   },
   "source": [
    "When you run the cell above, however, you'll get an error: ***No module named 'face_recognition'***. Earlier on, I told you that Colab comes with a bunch of Python libraries pre-installed. As it turns out, `face_recognition` is not one of them. We need to install this library ourselves.\n",
    "\n",
    "Fortunately, installing libraries on the runtime is not a big deal. You do it with the same tool you'd use on your local computer: `pip`, the Python package manager. Run this cell to install version 1.3 of `face_recognition`:"
   ]
  },
  {
   "cell_type": "code",
   "execution_count": null,
   "metadata": {
    "id": "nF4ClaFS8Swv"
   },
   "outputs": [],
   "source": [
    "%pip install face_recognition==1.3"
   ]
  },
  {
   "cell_type": "markdown",
   "metadata": {
    "id": "3cXHxLE17bPt"
   },
   "source": [
    "While the library installs, here's a question for you: do you notice anything weird in the command above? So far, we've prefixed shell commands with a `!` sign. Instead, this command is prefixed by a `%` sign.\n",
    "\n",
    "That's because `%pip` isn't a shell command. Instead, it's something that notebooks call a “magic command”, or just a “magic” for short. Magics are built-in directives that go straight to the notebook. So we didn't send a command to the runtime–we sent it to the notebook itself. As you probably guessed, the `%pip` magic orders the notebook to install a library.\n",
    "\n",
    "(You might wonder: why use a magic command in this case, when we could just run the `!pip` command in a shell? Thing is, `!pip` causes subtle issues when you install libraries on a runtime, while `%pip` has no such issues. You can read the technical details [here](https://github.com/ipython/ipython/pull/11524) if you wish.)\n",
    "\n",
    "OK, where were we? Oh, yes: we installed `face_recognition`, and now we can run our code again. If the cell above has finished its job, then go run the previous code cell again–the one that imports and uses the `face_recognition` library. I'll be waiting in the next section."
   ]
  },
  {
   "cell_type": "markdown",
   "metadata": {
    "id": "BAvNug8V8xB0"
   },
   "source": [
    "### Making More Mistakes\n",
    "\n",
    "Welcome back! Did you run that cell again? Did you perchance get yet another error–something to do with “no CUDA-capable device”? Whether or not it happened to you, that mistake is related to one of the best features of Colab, so you might want to hear about it.\n",
    "\n",
    "CUDA is the programming interface for [NVIDIA](https://www.nvidia.com/it-it/)'s [GPU](https://en.wikipedia.org/wiki/Graphics_processing_unit)s. Like many machine learning libraries, `face_recognition` expects to find a CUDA interface on the current machine.\n",
    "\n",
    "Let's double check. We can use the `nvidia-smi` command to see which GPU is installed on the runtime:"
   ]
  },
  {
   "cell_type": "code",
   "execution_count": null,
   "metadata": {
    "id": "rElSSGsSCCEG"
   },
   "outputs": [],
   "source": [
    "!nvidia-smi"
   ]
  },
  {
   "cell_type": "markdown",
   "metadata": {
    "id": "fLb2Pn7vCBZV"
   },
   "source": [
    "If the command above reports a failure, that's because your runtime doesn't come with a GPU card. That's expected: Colab tries to spare precious hardware resources, so it usually doesn't give you a GPU. Unless you ask for it, that is. Let's see how.\n",
    "\n",
    "Check the menu bar at the top of this notebook. Open `Runtime`, and select `Change runtime type`. You should see a dialog, and inside it, a combo labeled “Hardware accelerator”. Select “GPU” and save the configuration. That should add a GPU and CUDA to your runtime.\n",
    "\n",
    "Have you done it? Good! Then run the cell above again–the one with the `nvidia-smi` command. This time around, you should have a GPU. That GPU can be less or more powerful, depending on a few things. Google tends to allocate the more powerful GPUs to Colab subscribers, and the less powerful to people who're using Colab for free. However, as long as we have a GPU, we aren't going to be fussy about it.\n",
    "\n",
    "To recap: earlier on, we got an error because we didn't have the `face_recognition` library. We fixed that error, and got a second one about not having a GPU. We fixed that second error as well. It's time to run our code again… And I also have an apology to make.\n"
   ]
  },
  {
   "cell_type": "markdown",
   "metadata": {
    "id": "_jHEi4MyKNSG"
   },
   "source": [
    "## Wrapping Up the Code\n",
    "\n",
    "I've been a bit mischievious in the previous two sections. I knew that you'd get errors on this notebook, and I did nothing to prevent it. I apologize for that–I did it for a good cause. I wanted to show you how it feels to work with a Colab notebook in real life. We'll talk more about this topic later, when we return to the article that we started from.\n",
    "\n",
    "In the meantime, here are the cells that load the image again. This time they're in the right order, and ready to be executed one after the other.\n",
    "\n",
    "(Here is a useful shortcut for running multiple cells one after the other: press `Shift+Enter` to run a cell and immediately select the following cell.)"
   ]
  },
  {
   "cell_type": "code",
   "execution_count": null,
   "metadata": {
    "id": "BAqA3YOcKqLR"
   },
   "outputs": [],
   "source": [
    "# This cell should confirm that your runtime has a GPU.\n",
    "# If you see a message telling you that the GPU isn't\n",
    "# there, then use the \"Runtime\" -> \"Change runtime type\"\n",
    "# menu item to get one.\n",
    "!nvidia-smi"
   ]
  },
  {
   "cell_type": "code",
   "execution_count": null,
   "metadata": {
    "id": "LMoiD5ofb6gO"
   },
   "outputs": [],
   "source": [
    "# Download the image:\n",
    "!wget https://live.staticflickr.com/8392/8622731362_984012906e_c_d.jpg --output-document people.jpg"
   ]
  },
  {
   "cell_type": "code",
   "execution_count": null,
   "metadata": {
    "id": "egOxlKGecKe3"
   },
   "outputs": [],
   "source": [
    "# List the content of the working directory. The \"people.jpg\" image\n",
    "# should be in there.\n",
    "!ls"
   ]
  },
  {
   "cell_type": "code",
   "execution_count": null,
   "metadata": {
    "id": "0Mxtt3F5K7ap"
   },
   "outputs": [],
   "source": [
    "# Install the face_recognition library, unless it's already installed.\n",
    "%pip install face_recognition==1.3"
   ]
  },
  {
   "cell_type": "code",
   "execution_count": null,
   "metadata": {
    "id": "C1SfwCvTLEpG"
   },
   "outputs": [],
   "source": [
    "# Import the library and use it to load the image.\n",
    "import face_recognition\n",
    "\n",
    "image = face_recognition.load_image_file(\"people.jpg\")"
   ]
  },
  {
   "cell_type": "code",
   "execution_count": null,
   "metadata": {
    "id": "DH3U1ZphLLEG"
   },
   "outputs": [],
   "source": [
    "# Print out the shape of the image, to make sure that it loaded OK.\n",
    "# It should be 493 pixels wide, 800 pixels high, with 3 color channels.\n",
    "image.shape"
   ]
  },
  {
   "cell_type": "markdown",
   "metadata": {
    "id": "bJ8bdVPIn9Bv"
   },
   "source": [
    "And now it's finally time to do that face detection!"
   ]
  },
  {
   "cell_type": "markdown",
   "metadata": {
    "id": "a1ST1NJ5U-9g"
   },
   "source": [
    "### Detecting faces\n",
    "\n",
    "Here is how you detect faces with the `face_recognition` library:"
   ]
  },
  {
   "cell_type": "code",
   "execution_count": null,
   "metadata": {
    "id": "DVT7y_nNYP8b"
   },
   "outputs": [],
   "source": [
    "%%time\n",
    "\n",
    "locations = face_recognition.face_locations(image)"
   ]
  },
  {
   "cell_type": "markdown",
   "metadata": {
    "id": "FhAcTlzmMw8u"
   },
   "source": [
    "The cell above uses the `%%time` magic command to measure its own execution time. This “magic” uses a double `%` sign instead of a single `%` sign. That's a Colab convention for magics that apply to multiple lines–in this case, to the entire cell. The cell can take more or less time depending on which runtime you got, but it typically takes a few seconds or less.\n",
    "\n",
    "The call to `face_locations()` returns a list of bounding boxes. Those are rectangular areas in the original image that contain a human face. Let's check out that `locations` variable:"
   ]
  },
  {
   "cell_type": "code",
   "execution_count": null,
   "metadata": {
    "id": "a-E_ThiBQyR3"
   },
   "outputs": [],
   "source": [
    "locations"
   ]
  },
  {
   "cell_type": "markdown",
   "metadata": {
    "id": "t6EgrtzGNJ5F"
   },
   "source": [
    "One, two… that's six bounding boxes in total. The original photograph had seven people in it, so it seems that someone slipped under the radar. The following code draws the bounding boxes over the original image, so that we can see who's missing:"
   ]
  },
  {
   "cell_type": "code",
   "execution_count": null,
   "metadata": {
    "id": "8ktIPQ4uYOZP"
   },
   "outputs": [],
   "source": [
    "# We'll use utility functions from these two libraries:\n",
    "import cv2\n",
    "from google.colab.patches import cv2_imshow\n",
    "\n",
    "# Draw the bounding boxes on a copy of the image:\n",
    "image_with_boxes = image.copy()\n",
    "for location in locations:\n",
    "    y2, x1, y1, x2 = location\n",
    "    image_with_boxes = cv2.rectangle(image_with_boxes, (x1, y1), (x2, y2), (255, 0, 0), 2)\n",
    "\n",
    "# Convert the image to RGB (because the cv2 library uses\n",
    "# a BGR order for the color channels):\n",
    "cv2.cvtColor(image_with_boxes, cv2.COLOR_BGR2RGB)\n",
    "\n",
    "# Show the image on the screen:\n",
    "cv2_imshow(image_with_boxes)"
   ]
  },
  {
   "cell_type": "markdown",
   "metadata": {
    "id": "wKNOEoXGOqvG"
   },
   "source": [
    "It's hard to tell why the `face_recognition` library didn't spot that guy in the lower right of the picture. Maybe the algorithm is better at identifying people if they're looking straight into the camera. In any case, six over seven is still a decent performance."
   ]
  },
  {
   "cell_type": "markdown",
   "metadata": {
    "id": "QlILZ_ToO5Mc"
   },
   "source": [
    "> ### If You Want to Experiment\n",
    ">\n",
    "> If you're willing to spend a few more minutes with this notebook, here is something you can try: run the face detector on your own image. You can download an image from the Internet with `wget`, like we did here. Alternately, check out the vertical toolbar on the left side of this notebook. See that little folder icon? Click on it, and you'll see the current runtime's file system, and an option to upload your files directly to it."
   ]
  },
  {
   "cell_type": "markdown",
   "metadata": {
    "id": "ZF32B0p4GMn9"
   },
   "source": [
    "## Back to Where We Started\n",
    "\n",
    "We only scratched the proverbial surface of computational notebook, but you should know enough to work with a notebook on your own. Onwards to the next milestone!"
   ]
  }
 ],
 "metadata": {
  "accelerator": "GPU",
  "colab": {
   "authorship_tag": "ABX9TyM/XrB2bmwXaT6+i0hEGt/j",
   "collapsed_sections": [],
   "include_colab_link": true,
   "name": "Colab in 20 Minutes",
   "private_outputs": true,
   "provenance": []
  },
  "kernelspec": {
   "display_name": "Python 3 (ipykernel)",
   "language": "python",
   "name": "python3"
  },
  "language_info": {
   "codemirror_mode": {
    "name": "ipython",
    "version": 3
   },
   "file_extension": ".py",
   "mimetype": "text/x-python",
   "name": "python",
   "nbconvert_exporter": "python",
   "pygments_lexer": "ipython3",
   "version": "3.10.6"
  }
 },
 "nbformat": 4,
 "nbformat_minor": 1
}
